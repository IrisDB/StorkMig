{
 "cells": [
  {
   "cell_type": "markdown",
   "metadata": {},
   "source": [
    "# Manual annotation of environmental data\n",
    "\n",
    "## Information\n",
    "Project: White Stork Affenberg, CareCenter, CASCB  \n",
    "Author: Iris Bontekoe  \n",
    "Date Started: 16 February 2022  \n",
    "Date Version 01: 16 February 2022  \n",
    "Date last modified: 16 February 2022  \n",
    "\n",
    "Program: Python 3.9\n",
    "\n",
    "Description: This script requests environmental data and annotates GPS data. \n",
    "\n",
    "#### Version control\n",
    "01: First version\n",
    "\n",
    "\n",
    "#### Instructions\n",
    "Make sure that the script is executed from top to bottom to ensure that everything works.\n",
    "\n",
    "More instructions are to be added, among others how to get the request information."
   ]
  },
  {
   "cell_type": "markdown",
   "metadata": {},
   "source": [
    "## Preparation"
   ]
  },
  {
   "cell_type": "code",
   "execution_count": null,
   "metadata": {},
   "outputs": [],
   "source": [
    "# Import stuff that is necessary to execute the script\n",
    "import cdsapi\n",
    "\n",
    "# Set the path to the folder where the GPS data is located\n",
    "data_folder = \"C:/Users/ibontekoe/Desktop/R_Analyses/DATA/\"\n"
   ]
  },
  {
   "cell_type": "markdown",
   "metadata": {},
   "source": [
    "## Get environmental data"
   ]
  },
  {
   "cell_type": "code",
   "execution_count": null,
   "metadata": {},
   "outputs": [
    {
     "name": "stderr",
     "output_type": "stream",
     "text": [
      "2022-02-16 12:07:13,088 INFO Sending request to https://cds.climate.copernicus.eu/api/v2/resources/reanalysis-era5-single-levels\n",
      "2022-02-16 12:07:13,209 INFO Request is queued\n"
     ]
    }
   ],
   "source": [
    "\n",
    "\n",
    "c = cdsapi.Client()\n",
    "\n",
    "c.retrieve(\n",
    "    'reanalysis-era5-single-levels',\n",
    "    {\n",
    "        'product_type': 'reanalysis',\n",
    "        'format': 'grib',\n",
    "        'variable': [\n",
    "            '2m_temperature', 'boundary_layer_height', 'surface_sensible_heat_flux',\n",
    "        ],\n",
    "        'year': '2019',\n",
    "        'month': '08',\n",
    "        'day': '28',\n",
    "        'time': '14:00',\n",
    "        'area': [\n",
    "            48, 0, 40,\n",
    "            8,\n",
    "        ],\n",
    "    },\n",
    "    'download.grib')"
   ]
  },
  {
   "cell_type": "code",
   "execution_count": null,
   "metadata": {},
   "outputs": [],
   "source": []
  }
 ],
 "metadata": {
  "kernelspec": {
   "display_name": "Python 3",
   "language": "python",
   "name": "python3"
  },
  "language_info": {
   "codemirror_mode": {
    "name": "ipython",
    "version": 3
   },
   "file_extension": ".py",
   "mimetype": "text/x-python",
   "name": "python",
   "nbconvert_exporter": "python",
   "pygments_lexer": "ipython3",
   "version": "3.8.5"
  }
 },
 "nbformat": 4,
 "nbformat_minor": 4
}
